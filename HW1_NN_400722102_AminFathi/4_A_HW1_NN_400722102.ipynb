{
  "nbformat": 4,
  "nbformat_minor": 0,
  "metadata": {
    "colab": {
      "name": "Untitled0.ipynb",
      "provenance": [],
      "collapsed_sections": [],
      "toc_visible": true
    },
    "kernelspec": {
      "name": "python3",
      "display_name": "Python 3"
    },
    "language_info": {
      "name": "python"
    }
  },
  "cells": [
    {
      "cell_type": "code",
      "metadata": {
        "colab": {
          "base_uri": "https://localhost:8080/"
        },
        "id": "e4eMifDzNUEY",
        "outputId": "443e8147-3635-4504-a56a-e73e795d8edd"
      },
      "source": [
        "# در این کد ما با استفاده از if , elif , eslse \n",
        "# شروع به تفکیک سازی بین دیتا ها میکنیم ، نکته ای که در ترسیم مسیر( گراف درختی ) برای سوال بعدی پیش می آید ، این است که ویژگی باید انتخاب شود تا امکان حذف تعدا بیشتری از عناصر نامطلوب را به ما بدهد\n",
        "# برای همین از رنگ پوست شروع کرده ایم\n",
        "# else is for answers != yes or no\n",
        "\n",
        "\n",
        "\n",
        "answer = input(\"skin color is black? (yes or no)\")\n",
        "if answer == (\"yes\"):\n",
        "  answer2 =input(\"shoe size is 40 ?\")\n",
        "  if answer2 == (\"yes\"):\n",
        "    # 7, 9 , 10\n",
        "    answer3 = input(\"hair color is blond?\")\n",
        "    if answer3 == (\"yes\"):\n",
        "      # 9\n",
        "      print(\"9 nafar darim\")\n",
        "    elif answer3 == (\"no\"):\n",
        "      # 7 , 10\n",
        "      answer4 = input(\"eye color is blue?\")\n",
        "      if answer4 == (\"yes\"):\n",
        "        # 10\n",
        "        print(\"10 nafar darim\")\n",
        "      elif answer4 == (\"no\"):\n",
        "        # 7\n",
        "        print(\"7 nafar darim\")\n",
        "      else :\n",
        "        print(\"unvalid answer\")\n",
        "  elif answer2 == (\"no\"):\n",
        "    # 1, 2, 3\n",
        "    answer3 =  input(\"shoe size is 43 ?\")\n",
        "    if answer3 == (\"yes\"):\n",
        "      # 3\n",
        "      print(\"3 nafar darim\")\n",
        "    elif answer3 == (\"no\"):\n",
        "      # 1 , 2\n",
        "      answer4 = input(\"height is 170?\")\n",
        "      if answer4 == (\"yes\"):\n",
        "        # 2\n",
        "        print(\"2 nafar darim\")\n",
        "      elif answer4 == (\"no\"):\n",
        "        # 1\n",
        "        print(\"1 nafar darim\")\n",
        "      else:\n",
        "        print(\"unvalid answer\")\n",
        "    else :\n",
        "      print(\"unvalid answer\")\n",
        "  else :\n",
        "    print(\"unvalid answer\")\n",
        "elif answer == (\"no\"):\n",
        "  # 4 , 5 , 6 , 8\n",
        "  answer2 = input(\"shoe size is 41 ?\")\n",
        "  if answer2 == (\"yes\"):\n",
        "    # 8 ,6\n",
        "    answer3 = input(\"hair color is brown?\")\n",
        "    if answer3 == (\"yes\"):\n",
        "      # 8\n",
        "      print(\"8 nafar darim\")\n",
        "    elif answer3 == (\"no\"):\n",
        "      #6\n",
        "      print(\"6 nafar darim\")\n",
        "    else :\n",
        "      print(\"unvalid input\")\n",
        "  elif answer2 == (\"no\"):\n",
        "    #4 , 5\n",
        "    answer3 = input(\"hair color is black?\")\n",
        "    if answer3 == (\"yes\"):\n",
        "      # 4\n",
        "      print(\"4 nafar darim\")\n",
        "    elif answer3 == (\"no\"):\n",
        "      # 5\n",
        "      print(\"5 nafar darim\")\n",
        "    else :\n",
        "      print(\"unvalid input\")\n",
        "  else :\n",
        "    print(\"unvalid answer\")\n",
        "else:\n",
        "  print(\"unvalid answer\")\n",
        "\n",
        "\n"
      ],
      "execution_count": null,
      "outputs": [
        {
          "output_type": "stream",
          "name": "stdout",
          "text": [
            "skin color is black? (yes or no)yes\n",
            "shoe size is 40 ?no\n",
            "shoe size is 43 ?no\n",
            "height is 170?no\n",
            "1 nafar darim\n"
          ]
        }
      ]
    }
  ]
}