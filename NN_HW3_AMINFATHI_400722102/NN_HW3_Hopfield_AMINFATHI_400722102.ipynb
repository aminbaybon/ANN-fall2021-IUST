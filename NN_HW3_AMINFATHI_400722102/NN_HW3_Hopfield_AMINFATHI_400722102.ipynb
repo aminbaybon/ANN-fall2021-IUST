{
  "nbformat": 4,
  "nbformat_minor": 0,
  "metadata": {
    "colab": {
      "name": "NN_HW3_Hopfield.ipynb",
      "provenance": [],
      "collapsed_sections": []
    },
    "kernelspec": {
      "name": "python3",
      "display_name": "Python 3"
    },
    "language_info": {
      "name": "python"
    }
  },
  "cells": [
    {
      "cell_type": "markdown",
      "metadata": {
        "id": "S-TsZLRFnOhL"
      },
      "source": [
        "In this problem, you need to train a Hopfield network using the attached image. Use the attached training image to train your network and then evaluate its performance employing the attached test image. To this end, you need to complete each cell step by step.\n",
        "\n",
        "You have to submit the final saved image as well as the completed notebook. \n"
      ]
    },
    {
      "cell_type": "code",
      "metadata": {
        "id": "0AMvHdjHnPNR"
      },
      "source": [
        "import numpy as np\n",
        "import random\n",
        "import PIL\n",
        "from PIL import Image\n",
        "import os\n",
        "import re\n",
        "from google.colab.patches import cv2_imshow \n",
        "import cv2 as cv\n",
        "from google.colab.patches import cv2_imshow"
      ],
      "execution_count": 2,
      "outputs": []
    },
    {
      "cell_type": "code",
      "metadata": {
        "colab": {
          "base_uri": "https://localhost:8080/"
        },
        "id": "LPpH34QT7hHI",
        "outputId": "e137ecc2-0642-431a-b1da-a84302bab031"
      },
      "source": [
        "from google.colab import drive\n",
        "drive.mount('/content/drive')"
      ],
      "execution_count": 3,
      "outputs": [
        {
          "output_type": "stream",
          "name": "stdout",
          "text": [
            "Drive already mounted at /content/drive; to attempt to forcibly remount, call drive.mount(\"/content/drive\", force_remount=True).\n"
          ]
        }
      ]
    },
    {
      "cell_type": "code",
      "metadata": {
        "colab": {
          "base_uri": "https://localhost:8080/"
        },
        "id": "kfuovt867y83",
        "outputId": "7573756a-2db8-426b-ddba-6354fe46f650"
      },
      "source": [
        "%cd drive/MyDrive/NN_HW3"
      ],
      "execution_count": 4,
      "outputs": [
        {
          "output_type": "stream",
          "name": "stdout",
          "text": [
            "/content/drive/MyDrive/NN_HW3\n"
          ]
        }
      ]
    },
    {
      "cell_type": "code",
      "metadata": {
        "id": "fVcKwIzM0LUQ"
      },
      "source": [
        "#Convert a matrix to a vector\n",
        "def mat2vec(x):\n",
        "  tmp1 = list()\n",
        "  for i in range(len(x)):\n",
        "    for j in range(len(x[i])):\n",
        "      tmp1.append(x[i][j])\n",
        "\n",
        "#### Implement your code ###\n",
        " \n",
        "  return tmp1"
      ],
      "execution_count": 5,
      "outputs": []
    },
    {
      "cell_type": "code",
      "metadata": {
        "id": "Kluvs_LM0shA"
      },
      "source": [
        "def create_W(x):\n",
        "  \"\"\"  \n",
        "Create a square matrix with the same size as the input size.\n",
        "Note 1: The weight matrix must be symmetric\n",
        "Tip 1: For row i and column j, while i != j, place the value x [i] * x [j] in the weight matrix w [i, j]\n",
        "Tip 2: For row i and column j, while i=j, put the value 0 in the weight matrix w [i, j]\n",
        "  \"\"\"\n",
        "#### Impelement your code ### \n",
        "  lent = len(x)\n",
        "  w = [[ 0 for j in range(lent)]for i in range(lent)]  \n",
        "  for i in range(lent):\n",
        "    for j in range(lent):\n",
        "      if i != j :\n",
        "        w[i][j] = x[i] * x[j]\n",
        "      \n",
        "\n",
        "\n",
        "\n",
        "  return w"
      ],
      "execution_count": 6,
      "outputs": []
    },
    {
      "cell_type": "code",
      "metadata": {
        "id": "OGaxLOt53Iog"
      },
      "source": [
        "#Read an image file and convert it to a pattern of the image\n",
        "def readImg2array(file,size, threshold= 145):\n",
        "    img = Image.open(file).convert(mode=\"L\")\n",
        "    img= img.resize(size)\n",
        "    #img.thumbnail(size,Image.ANTIALIAS)\n",
        "    imgArray = np.asarray(img,dtype=np.uint8)\n",
        "    x = np.zeros(imgArray.shape,dtype=np.float)\n",
        "\n",
        "    \"\"\"\n",
        "    Set the value to 1 for each pixel value with the larger than the threshold,\n",
        "    and Set the value to -1 for each image pixel with a value of 0.\n",
        "\n",
        "\n",
        "\n",
        "    \"\"\"\n",
        "    #### Implement your code ###\n",
        "    x[imgArray>threshold] = 1\n",
        "    x[x==0] = -1\n",
        "\n",
        "    return x"
      ],
      "execution_count": 7,
      "outputs": []
    },
    {
      "cell_type": "code",
      "metadata": {
        "id": "Vdj87wEq4T0v"
      },
      "source": [
        "#Convert a numpy array to an image file like Jpeg\n",
        "def array2img(data, outFile = None):\n",
        "\n",
        "    #data is 1 or -1 matrix\n",
        "    y = np.zeros(data.shape,dtype=np.uint8)\n",
        "    y[data==1] = 255\n",
        "    y[data==-1] = 0\n",
        "    img = Image.fromarray(y,mode=\"L\")\n",
        "    if outFile is not None:\n",
        "        img.save(outFile)\n",
        "    return img"
      ],
      "execution_count": 8,
      "outputs": []
    },
    {
      "cell_type": "code",
      "metadata": {
        "id": "ivQi0cbZ4YT0"
      },
      "source": [
        "#Update the test input pattern (y_vec) based on the weight matrix\n",
        "def update(w,y_vec,theta=0.5,time=100):\n",
        "\n",
        "\n",
        "#### Impelement your code ###\n",
        "  for i in range(time):\n",
        "      random1 = random.randint(0,len(y_vec)-1)\n",
        "      result = np.dot(w[random1][:],y_vec) - theta\n",
        "      if result > 0:\n",
        "        y_vec[random1] = 1\n",
        "      else:\n",
        "        y_vec[random1] = -1\n",
        "\n",
        "  return y_vec"
      ],
      "execution_count": 9,
      "outputs": []
    },
    {
      "cell_type": "code",
      "metadata": {
        "id": "pxSyUwhC614R"
      },
      "source": [
        "\n",
        "def hopfield(theta=0.5, time=1000, size=(100,100),threshold=60):\n",
        "\n",
        "# \"\"\"\n",
        "# # Using the built-in functions, Do the following steps:\n",
        "# # 1- Read the input image and extract its pattern\n",
        "# # 2. Convert the obtained pattern into a vector\n",
        "# # 3- Make a weight matrix based on the vector of the previous step\n",
        "# # 4- Read the test image and extract its pattern\n",
        "# # 5- Convert the test pattern into a vector and give it as the input of the update function along with the built-in weight matrix.\n",
        "\n",
        "# # \"\"\"\n",
        "\n",
        "\n",
        "#### Impelement your code ###\n",
        "   train = readImg2array(\"/content/drive/MyDrive/NN_HW3/Code/train.jpg\", size, threshold) \n",
        "   vector1 = mat2vec(train)  \n",
        "   weight1 = create_W(vector1)\n",
        "   test =  readImg2array(\"/content/drive/MyDrive/NN_HW3/Code/test.jpg\", size, threshold) \n",
        "   y_vec = mat2vec(test)  \n",
        "   y_vec_after = update(weight1,y_vec,theta,time)\n",
        "\n",
        "   y_vec_after2 = np.array(y_vec_after).reshape(test.shape)\n",
        "   after_img = array2img(y_vec_after2,outFile=None)\n",
        "   after_img.save(\"result.jpg\")\n",
        "   after_img.show()\n",
        "\n",
        "   img = cv.imread('/content/drive/MyDrive/NN_HW3/result.jpg')\n",
        "   cv2_imshow(img)\n",
        "        "
      ],
      "execution_count": 10,
      "outputs": []
    },
    {
      "cell_type": "code",
      "metadata": {
        "id": "Ru50z8cE9unG",
        "colab": {
          "base_uri": "https://localhost:8080/",
          "height": 117
        },
        "outputId": "59551e51-f542-41b9-e4c1-dae9cc3db384"
      },
      "source": [
        "hopfield( theta=0.5,time=40000,size=(100,100),threshold=60)\n"
      ],
      "execution_count": 15,
      "outputs": [
        {
          "output_type": "display_data",
          "data": {
            "image/png": "[encoded data removed]",
            "text/plain": [
              "<PIL.Image.Image image mode=RGB size=100x100 at 0x7F2A5E586310>"
            ]
          },
          "metadata": {}
        }
      ]
    }
  ]
}